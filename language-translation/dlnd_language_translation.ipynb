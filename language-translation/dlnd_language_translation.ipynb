{
 "cells": [
  {
   "cell_type": "markdown",
   "metadata": {
    "collapsed": true,
    "deletable": true,
    "editable": true
   },
   "source": [
    "# Language Translation\n",
    "In this project, you’re going to take a peek into the realm of neural network machine translation.  You’ll be training a sequence to sequence model on a dataset of English and French sentences that can translate new sentences from English to French.\n",
    "## Get the Data\n",
    "Since translating the whole language of English to French will take lots of time to train, we have provided you with a small portion of the English corpus."
   ]
  },
  {
   "cell_type": "code",
   "execution_count": 1,
   "metadata": {
    "collapsed": false,
    "deletable": true,
    "editable": true
   },
   "outputs": [
    {
     "data": {
      "text/plain": [
       "\"\\nDON'T MODIFY ANYTHING IN THIS CELL\\n\""
      ]
     },
     "execution_count": 1,
     "metadata": {},
     "output_type": "execute_result"
    }
   ],
   "source": [
    "\"\"\"\n",
    "DON'T MODIFY ANYTHING IN THIS CELL\n",
    "\"\"\"\n",
    "import helper\n",
    "import problem_unittests as tests\n",
    "\n",
    "source_path = 'data/small_vocab_en'\n",
    "target_path = 'data/small_vocab_fr'\n",
    "source_text = helper.load_data(source_path)\n",
    "target_text = helper.load_data(target_path)"
   ]
  },
  {
   "cell_type": "markdown",
   "metadata": {
    "deletable": true,
    "editable": true
   },
   "source": [
    "## Explore the Data\n",
    "Play around with view_sentence_range to view different parts of the data."
   ]
  },
  {
   "cell_type": "code",
   "execution_count": 2,
   "metadata": {
    "collapsed": false,
    "deletable": true,
    "editable": true
   },
   "outputs": [
    {
     "data": {
      "text/plain": [
       "\"\\nDON'T MODIFY ANYTHING IN THIS CELL\\n\""
      ]
     },
     "execution_count": 2,
     "metadata": {},
     "output_type": "execute_result"
    },
    {
     "name": "stdout",
     "output_type": "stream",
     "text": [
      "Dataset Stats\n",
      "Roughly the number of unique words: 227\n",
      "Number of sentences: 137861\n",
      "Average number of words in a sentence: 13.225277634719028\n",
      "\n",
      "English sentences 0 to 10:\n",
      "new jersey is sometimes quiet during autumn , and it is snowy in april .\n",
      "the united states is usually chilly during july , and it is usually freezing in november .\n",
      "california is usually quiet during march , and it is usually hot in june .\n",
      "the united states is sometimes mild during june , and it is cold in september .\n",
      "your least liked fruit is the grape , but my least liked is the apple .\n",
      "his favorite fruit is the orange , but my favorite is the grape .\n",
      "paris is relaxing during december , but it is usually chilly in july .\n",
      "new jersey is busy during spring , and it is never hot in march .\n",
      "our least liked fruit is the lemon , but my least liked is the grape .\n",
      "the united states is sometimes busy during january , and it is sometimes warm in november .\n",
      "\n",
      "French sentences 0 to 10:\n",
      "new jersey est parfois calme pendant l' automne , et il est neigeux en avril .\n",
      "les états-unis est généralement froid en juillet , et il gèle habituellement en novembre .\n",
      "california est généralement calme en mars , et il est généralement chaud en juin .\n",
      "les états-unis est parfois légère en juin , et il fait froid en septembre .\n",
      "votre moins aimé fruit est le raisin , mais mon moins aimé est la pomme .\n",
      "son fruit préféré est l'orange , mais mon préféré est le raisin .\n",
      "paris est relaxant en décembre , mais il est généralement froid en juillet .\n",
      "new jersey est occupé au printemps , et il est jamais chaude en mars .\n",
      "notre fruit est moins aimé le citron , mais mon moins aimé est le raisin .\n",
      "les états-unis est parfois occupé en janvier , et il est parfois chaud en novembre .\n"
     ]
    }
   ],
   "source": [
    "view_sentence_range = (0, 10)\n",
    "\n",
    "\"\"\"\n",
    "DON'T MODIFY ANYTHING IN THIS CELL\n",
    "\"\"\"\n",
    "import numpy as np\n",
    "\n",
    "print('Dataset Stats')\n",
    "print('Roughly the number of unique words: {}'.format(len({word: None for word in source_text.split()})))\n",
    "\n",
    "sentences = source_text.split('\\n')\n",
    "word_counts = [len(sentence.split()) for sentence in sentences]\n",
    "print('Number of sentences: {}'.format(len(sentences)))\n",
    "print('Average number of words in a sentence: {}'.format(np.average(word_counts)))\n",
    "\n",
    "print()\n",
    "print('English sentences {} to {}:'.format(*view_sentence_range))\n",
    "print('\\n'.join(source_text.split('\\n')[view_sentence_range[0]:view_sentence_range[1]]))\n",
    "print()\n",
    "print('French sentences {} to {}:'.format(*view_sentence_range))\n",
    "print('\\n'.join(target_text.split('\\n')[view_sentence_range[0]:view_sentence_range[1]]))"
   ]
  },
  {
   "cell_type": "markdown",
   "metadata": {
    "deletable": true,
    "editable": true
   },
   "source": [
    "## Implement Preprocessing Function\n",
    "### Text to Word Ids\n",
    "As you did with other RNNs, you must turn the text into a number so the computer can understand it. In the function `text_to_ids()`, you'll turn `source_text` and `target_text` from words to ids.  However, you need to add the `<EOS>` word id at the end of each sentence from `target_text`.  This will help the neural network predict when the sentence should end.\n",
    "\n",
    "You can get the `<EOS>` word id by doing:\n",
    "```python\n",
    "target_vocab_to_int['<EOS>']\n",
    "```\n",
    "You can get other word ids using `source_vocab_to_int` and `target_vocab_to_int`."
   ]
  },
  {
   "cell_type": "code",
   "execution_count": 39,
   "metadata": {
    "collapsed": false,
    "deletable": true,
    "editable": true
   },
   "outputs": [
    {
     "data": {
      "text/plain": [
       "\"\\nDON'T MODIFY ANYTHING IN THIS CELL THAT IS BELOW THIS LINE\\n\""
      ]
     },
     "execution_count": 39,
     "metadata": {},
     "output_type": "execute_result"
    },
    {
     "name": "stdout",
     "output_type": "stream",
     "text": [
      "Tests Passed\n"
     ]
    }
   ],
   "source": [
    "def text_to_ids(source_text, target_text, source_vocab_to_int, target_vocab_to_int):\n",
    "    \"\"\"\n",
    "    Convert source and target text to proper word ids\n",
    "    :param source_text: String that contains all the source text.\n",
    "    :param target_text: String that contains all the target text.\n",
    "    :param source_vocab_to_int: Dictionary to go from the source words to an id\n",
    "    :param target_vocab_to_int: Dictionary to go from the target words to an id\n",
    "    :return: A tuple of lists (source_id_text, target_id_text)\n",
    "    \"\"\"\n",
    "    \n",
    "    source_id_text = []\n",
    "    for line in source_text.split('\\n'):\n",
    "        transformed = []\n",
    "        for letter in line.split(' '):\n",
    "            transformed.append(source_vocab_to_int.get(letter, source_vocab_to_int['<PAD>']))\n",
    "        source_id_text.append(transformed)\n",
    "            \n",
    "    target_id_text = []\n",
    "    for line in target_text.split('\\n'):\n",
    "        transformed = []\n",
    "        for letter in line.split(' '):\n",
    "            transformed.append(target_vocab_to_int.get(letter, target_vocab_to_int['<PAD>'] ))\n",
    "        transformed.append(target_vocab_to_int['<EOS>'])\n",
    "        target_id_text.append(transformed)\n",
    "        \n",
    "    return source_id_text, target_id_text\n",
    "\n",
    "\"\"\"\n",
    "DON'T MODIFY ANYTHING IN THIS CELL THAT IS BELOW THIS LINE\n",
    "\"\"\"\n",
    "tests.test_text_to_ids(text_to_ids)"
   ]
  },
  {
   "cell_type": "code",
   "execution_count": 40,
   "metadata": {
    "collapsed": false
   },
   "outputs": [
    {
     "data": {
      "text/plain": [
       "{',': 46,\n",
       " '-': 139,\n",
       " '-ce': 328,\n",
       " '-elle': 194,\n",
       " '-il': 135,\n",
       " '-ils': 335,\n",
       " '.': 216,\n",
       " '<EOS>': 1,\n",
       " '<GO>': 3,\n",
       " '<PAD>': 0,\n",
       " '<UNK>': 2,\n",
       " '?': 199,\n",
       " 'a': 55,\n",
       " 'agréable': 273,\n",
       " 'aimait': 222,\n",
       " 'aime': 28,\n",
       " 'aiment': 218,\n",
       " 'aiment-ils': 149,\n",
       " 'aimeraient': 189,\n",
       " 'aimez': 17,\n",
       " 'aimons': 21,\n",
       " 'aimé': 42,\n",
       " 'aimé.': 316,\n",
       " 'aimée': 58,\n",
       " 'aimés': 174,\n",
       " 'aller': 156,\n",
       " 'allez': 98,\n",
       " 'allions': 163,\n",
       " 'allons': 202,\n",
       " 'allé': 54,\n",
       " 'allée': 181,\n",
       " 'allés': 97,\n",
       " 'amusant': 228,\n",
       " 'anglais': 207,\n",
       " 'animal': 323,\n",
       " 'animaux': 125,\n",
       " 'août': 87,\n",
       " 'apprécié': 66,\n",
       " 'as-tu': 92,\n",
       " 'at': 159,\n",
       " 'au': 235,\n",
       " 'automne': 64,\n",
       " 'automobile': 62,\n",
       " 'aux': 276,\n",
       " 'avez': 124,\n",
       " 'avons': 352,\n",
       " 'avril': 266,\n",
       " 'banane': 168,\n",
       " 'bananes': 254,\n",
       " 'beau': 59,\n",
       " 'belle': 230,\n",
       " 'bien': 68,\n",
       " 'blanc': 22,\n",
       " 'blanche': 260,\n",
       " 'bleu': 162,\n",
       " 'bleue': 96,\n",
       " 'brillant': 23,\n",
       " 'brillante': 270,\n",
       " 'bénigne': 102,\n",
       " \"c'est\": 272,\n",
       " 'california': 261,\n",
       " 'californie': 353,\n",
       " 'calme': 35,\n",
       " 'camion': 134,\n",
       " 'ce': 198,\n",
       " 'cet': 351,\n",
       " 'cette': 253,\n",
       " 'chat': 290,\n",
       " 'chats': 330,\n",
       " 'chaud': 279,\n",
       " 'chaude': 318,\n",
       " 'chaux': 63,\n",
       " 'cher': 220,\n",
       " 'cheval': 100,\n",
       " 'chevaux': 117,\n",
       " 'chien': 114,\n",
       " 'chiens': 169,\n",
       " 'chine': 172,\n",
       " 'chinois': 133,\n",
       " 'citron': 256,\n",
       " 'citrons': 20,\n",
       " 'clémentes': 69,\n",
       " 'comme': 183,\n",
       " 'comment': 144,\n",
       " 'conduisait': 36,\n",
       " 'conduit': 103,\n",
       " 'conduite': 236,\n",
       " 'congélation': 233,\n",
       " 'cours': 112,\n",
       " 'cépage': 80,\n",
       " \"d'\": 40,\n",
       " 'dans': 338,\n",
       " 'de': 29,\n",
       " 'dernier': 136,\n",
       " 'dernière': 70,\n",
       " 'des': 86,\n",
       " 'difficile': 343,\n",
       " 'douce': 250,\n",
       " 'doux': 131,\n",
       " 'du': 205,\n",
       " 'durant': 95,\n",
       " 'décembre': 344,\n",
       " 'détend': 25,\n",
       " 'détendre': 320,\n",
       " 'détestait': 16,\n",
       " 'déteste': 339,\n",
       " 'détestez': 145,\n",
       " 'détestons': 333,\n",
       " 'eiffel': 277,\n",
       " 'elle': 11,\n",
       " 'en': 325,\n",
       " 'enneigé': 106,\n",
       " 'enneigée': 93,\n",
       " 'entre': 288,\n",
       " 'envisage': 241,\n",
       " 'envisagent': 15,\n",
       " 'es-tu': 206,\n",
       " 'espagnol': 192,\n",
       " 'est': 110,\n",
       " 'est-ce': 243,\n",
       " 'et': 39,\n",
       " 'etats-unis': 121,\n",
       " 'facile': 14,\n",
       " 'faire': 268,\n",
       " 'fait': 155,\n",
       " 'favori': 258,\n",
       " 'favoris': 90,\n",
       " 'football': 203,\n",
       " 'frais': 165,\n",
       " 'fraise': 215,\n",
       " 'fraises': 225,\n",
       " 'france': 259,\n",
       " 'français': 123,\n",
       " 'frisquet': 296,\n",
       " 'froid': 303,\n",
       " 'fruit': 322,\n",
       " 'fruits': 211,\n",
       " 'février': 26,\n",
       " 'gel': 237,\n",
       " 'gelé': 89,\n",
       " 'gelés': 223,\n",
       " 'glaciales': 264,\n",
       " 'grand': 229,\n",
       " 'grande': 47,\n",
       " 'grandes': 6,\n",
       " 'grands': 252,\n",
       " 'gros': 317,\n",
       " 'grosse': 340,\n",
       " 'grosses': 148,\n",
       " 'gèle': 299,\n",
       " 'généralement': 234,\n",
       " 'habituellement': 56,\n",
       " 'hiver': 120,\n",
       " 'humide': 154,\n",
       " 'i': 75,\n",
       " 'il': 178,\n",
       " 'ils': 153,\n",
       " 'inde': 257,\n",
       " 'intention': 151,\n",
       " \"j'aime\": 12,\n",
       " 'jamais': 249,\n",
       " 'janvier': 219,\n",
       " 'jaune': 32,\n",
       " 'je': 246,\n",
       " 'jersey': 180,\n",
       " 'juillet': 311,\n",
       " 'juin': 60,\n",
       " \"l'\": 195,\n",
       " \"l'animal\": 5,\n",
       " \"l'automne\": 334,\n",
       " \"l'automobile\": 57,\n",
       " \"l'oiseau\": 212,\n",
       " \"l'orange\": 267,\n",
       " \"l'ours\": 240,\n",
       " \"l'école\": 167,\n",
       " \"l'éléphant\": 182,\n",
       " \"l'épicerie\": 184,\n",
       " 'la': 221,\n",
       " 'lac': 177,\n",
       " 'lapin': 101,\n",
       " 'lapins': 238,\n",
       " 'le': 244,\n",
       " 'les': 208,\n",
       " 'leur': 33,\n",
       " 'leurs': 105,\n",
       " 'limes': 193,\n",
       " 'lion': 83,\n",
       " 'lions': 50,\n",
       " 'lui': 41,\n",
       " 'légère': 179,\n",
       " 'magnifique': 76,\n",
       " 'mai': 190,\n",
       " 'maillot': 77,\n",
       " 'mais': 336,\n",
       " 'mangue': 278,\n",
       " 'mangues': 104,\n",
       " 'manguiers': 341,\n",
       " 'mars': 232,\n",
       " 'merveilleux': 280,\n",
       " 'mes': 188,\n",
       " 'moindres': 166,\n",
       " 'moins': 72,\n",
       " 'mois': 306,\n",
       " 'mon': 283,\n",
       " 'monde': 186,\n",
       " 'moteur': 43,\n",
       " 'mouillé': 281,\n",
       " 'mouillée': 357,\n",
       " \"n'a\": 61,\n",
       " \"n'aimait\": 308,\n",
       " \"n'aime\": 242,\n",
       " \"n'aiment\": 331,\n",
       " \"n'aimez\": 301,\n",
       " \"n'aimons\": 24,\n",
       " \"n'est\": 282,\n",
       " \"n'êtes\": 332,\n",
       " 'ne': 173,\n",
       " 'neige': 214,\n",
       " 'neigeux': 247,\n",
       " 'new': 150,\n",
       " 'noir': 348,\n",
       " 'noire': 356,\n",
       " 'nos': 79,\n",
       " 'notre': 204,\n",
       " 'nous': 350,\n",
       " 'nouveau': 78,\n",
       " 'nouvelle': 8,\n",
       " 'novembre': 38,\n",
       " 'occupé': 88,\n",
       " 'occupée': 315,\n",
       " 'octobre': 321,\n",
       " 'oiseau': 313,\n",
       " 'oiseaux': 82,\n",
       " 'ont': 255,\n",
       " 'oranges': 227,\n",
       " 'ours': 349,\n",
       " 'où': 304,\n",
       " 'pamplemousse': 176,\n",
       " 'pamplemousses': 274,\n",
       " 'parfois': 27,\n",
       " 'paris': 18,\n",
       " 'pas': 201,\n",
       " 'pendant': 224,\n",
       " 'pense': 111,\n",
       " 'pensez': 7,\n",
       " 'petit': 48,\n",
       " 'petite': 164,\n",
       " 'petites': 312,\n",
       " 'petits': 226,\n",
       " 'peu': 85,\n",
       " 'plaît': 305,\n",
       " 'pleut': 91,\n",
       " 'pluie': 4,\n",
       " 'pluies': 130,\n",
       " 'plus': 143,\n",
       " 'pluvieux': 138,\n",
       " 'poire': 53,\n",
       " 'poires': 196,\n",
       " 'pomme': 132,\n",
       " 'pommes': 118,\n",
       " 'porcelaine': 329,\n",
       " 'portugais': 217,\n",
       " 'pourquoi': 37,\n",
       " 'pourraient': 327,\n",
       " 'pourrait': 302,\n",
       " 'pousse': 213,\n",
       " 'printemps': 326,\n",
       " 'prochain': 347,\n",
       " 'proches': 285,\n",
       " 'préféré': 109,\n",
       " 'préféré.': 73,\n",
       " 'préférée': 30,\n",
       " 'préférées': 269,\n",
       " 'préférés': 355,\n",
       " 'prévoient': 122,\n",
       " 'prévois': 67,\n",
       " 'prévoit': 354,\n",
       " 'prévoyons': 49,\n",
       " 'pêche': 152,\n",
       " 'pêches': 175,\n",
       " \"qu'elle\": 324,\n",
       " \"qu'il\": 291,\n",
       " 'quand': 231,\n",
       " 'que': 161,\n",
       " 'qui': 319,\n",
       " 'raisin': 310,\n",
       " 'raisins': 34,\n",
       " 'redouté': 300,\n",
       " 'redoutée': 128,\n",
       " 'redoutés': 9,\n",
       " 'relaxant': 307,\n",
       " 'rendre': 346,\n",
       " 'requin': 337,\n",
       " 'requins': 129,\n",
       " 'ressort': 99,\n",
       " 'rouge': 309,\n",
       " 'rouille': 52,\n",
       " 'rouillé': 275,\n",
       " 'rouillée': 158,\n",
       " 'se': 113,\n",
       " 'sec': 187,\n",
       " 'septembre': 51,\n",
       " 'serpent': 293,\n",
       " 'serpents': 263,\n",
       " 'ses': 239,\n",
       " 'singe': 248,\n",
       " 'singes': 157,\n",
       " 'son': 287,\n",
       " 'sont': 19,\n",
       " 'souris': 294,\n",
       " 'souvent': 142,\n",
       " 'sur': 160,\n",
       " 'sèche': 140,\n",
       " 't': 119,\n",
       " 'temps': 271,\n",
       " 'terrain': 297,\n",
       " 'tour': 292,\n",
       " 'tout': 81,\n",
       " 'traduction': 245,\n",
       " 'traduire': 314,\n",
       " 'traduis': 289,\n",
       " 'tranquille': 284,\n",
       " 'trop': 126,\n",
       " 'trouvé': 265,\n",
       " 'un': 31,\n",
       " 'une': 108,\n",
       " 'va': 147,\n",
       " 'vais': 84,\n",
       " 'vers': 191,\n",
       " 'vert': 74,\n",
       " 'verte': 45,\n",
       " 'verts': 146,\n",
       " 'veulent': 286,\n",
       " 'veut': 44,\n",
       " 'vieille': 342,\n",
       " 'vieux': 116,\n",
       " 'visite': 107,\n",
       " 'visiter': 127,\n",
       " 'vit': 262,\n",
       " 'voiture': 115,\n",
       " 'volant': 200,\n",
       " 'vont': 13,\n",
       " 'vos': 210,\n",
       " 'votre': 197,\n",
       " 'voudrait': 94,\n",
       " 'voulaient': 10,\n",
       " 'voulait': 345,\n",
       " 'voulez': 298,\n",
       " 'vous': 141,\n",
       " 'vu': 71,\n",
       " 'à': 137,\n",
       " 'éléphant': 185,\n",
       " 'éléphants': 295,\n",
       " 'étaient': 170,\n",
       " 'était': 65,\n",
       " 'états-unis': 251,\n",
       " 'été': 209,\n",
       " 'êtes-vous': 171}"
      ]
     },
     "execution_count": 40,
     "metadata": {},
     "output_type": "execute_result"
    }
   ],
   "source": [
    "target_vocab_to_int"
   ]
  },
  {
   "cell_type": "markdown",
   "metadata": {
    "deletable": true,
    "editable": true
   },
   "source": [
    "### Preprocess all the data and save it\n",
    "Running the code cell below will preprocess all the data and save it to file."
   ]
  },
  {
   "cell_type": "code",
   "execution_count": 41,
   "metadata": {
    "collapsed": false,
    "deletable": true,
    "editable": true
   },
   "outputs": [
    {
     "data": {
      "text/plain": [
       "\"\\nDON'T MODIFY ANYTHING IN THIS CELL\\n\""
      ]
     },
     "execution_count": 41,
     "metadata": {},
     "output_type": "execute_result"
    }
   ],
   "source": [
    "\"\"\"\n",
    "DON'T MODIFY ANYTHING IN THIS CELL\n",
    "\"\"\"\n",
    "helper.preprocess_and_save_data(source_path, target_path, text_to_ids)"
   ]
  },
  {
   "cell_type": "markdown",
   "metadata": {
    "deletable": true,
    "editable": true
   },
   "source": [
    "# Check Point\n",
    "This is your first checkpoint. If you ever decide to come back to this notebook or have to restart the notebook, you can start from here. The preprocessed data has been saved to disk."
   ]
  },
  {
   "cell_type": "code",
   "execution_count": 42,
   "metadata": {
    "collapsed": false,
    "deletable": true,
    "editable": true
   },
   "outputs": [
    {
     "data": {
      "text/plain": [
       "\"\\nDON'T MODIFY ANYTHING IN THIS CELL\\n\""
      ]
     },
     "execution_count": 42,
     "metadata": {},
     "output_type": "execute_result"
    }
   ],
   "source": [
    "\"\"\"\n",
    "DON'T MODIFY ANYTHING IN THIS CELL\n",
    "\"\"\"\n",
    "import numpy as np\n",
    "import helper\n",
    "\n",
    "(source_int_text, target_int_text), (source_vocab_to_int, target_vocab_to_int), _ = helper.load_preprocess()"
   ]
  },
  {
   "cell_type": "markdown",
   "metadata": {
    "deletable": true,
    "editable": true
   },
   "source": [
    "### Check the Version of TensorFlow and Access to GPU\n",
    "This will check to make sure you have the correct version of TensorFlow and access to a GPU"
   ]
  },
  {
   "cell_type": "code",
   "execution_count": 43,
   "metadata": {
    "collapsed": false,
    "deletable": true,
    "editable": true
   },
   "outputs": [
    {
     "data": {
      "text/plain": [
       "\"\\nDON'T MODIFY ANYTHING IN THIS CELL\\n\""
      ]
     },
     "execution_count": 43,
     "metadata": {},
     "output_type": "execute_result"
    },
    {
     "name": "stdout",
     "output_type": "stream",
     "text": [
      "TensorFlow Version: 1.0.0\n"
     ]
    },
    {
     "name": "stderr",
     "output_type": "stream",
     "text": [
      "/Users/josealber84/miniconda3/envs/tensorflow/lib/python3.5/site-packages/ipykernel/__main__.py:14: UserWarning: No GPU found. Please use a GPU to train your neural network.\n"
     ]
    }
   ],
   "source": [
    "\"\"\"\n",
    "DON'T MODIFY ANYTHING IN THIS CELL\n",
    "\"\"\"\n",
    "from distutils.version import LooseVersion\n",
    "import warnings\n",
    "import tensorflow as tf\n",
    "\n",
    "# Check TensorFlow Version\n",
    "assert LooseVersion(tf.__version__) in [LooseVersion('1.0.0'), LooseVersion('1.0.1')], 'This project requires TensorFlow version 1.0  You are using {}'.format(tf.__version__)\n",
    "print('TensorFlow Version: {}'.format(tf.__version__))\n",
    "\n",
    "# Check for a GPU\n",
    "if not tf.test.gpu_device_name():\n",
    "    warnings.warn('No GPU found. Please use a GPU to train your neural network.')\n",
    "else:\n",
    "    print('Default GPU Device: {}'.format(tf.test.gpu_device_name()))"
   ]
  },
  {
   "cell_type": "markdown",
   "metadata": {
    "deletable": true,
    "editable": true
   },
   "source": [
    "## Build the Neural Network\n",
    "You'll build the components necessary to build a Sequence-to-Sequence model by implementing the following functions below:\n",
    "- `model_inputs`\n",
    "- `process_decoding_input`\n",
    "- `encoding_layer`\n",
    "- `decoding_layer_train`\n",
    "- `decoding_layer_infer`\n",
    "- `decoding_layer`\n",
    "- `seq2seq_model`\n",
    "\n",
    "### Input\n",
    "Implement the `model_inputs()` function to create TF Placeholders for the Neural Network. It should create the following placeholders:\n",
    "\n",
    "- Input text placeholder named \"input\" using the TF Placeholder name parameter with rank 2.\n",
    "- Targets placeholder with rank 2.\n",
    "- Learning rate placeholder with rank 0.\n",
    "- Keep probability placeholder named \"keep_prob\" using the TF Placeholder name parameter with rank 0.\n",
    "\n",
    "Return the placeholders in the following the tuple (Input, Targets, Learing Rate, Keep Probability)"
   ]
  },
  {
   "cell_type": "code",
   "execution_count": 44,
   "metadata": {
    "collapsed": false,
    "deletable": true,
    "editable": true
   },
   "outputs": [
    {
     "data": {
      "text/plain": [
       "\"\\nDON'T MODIFY ANYTHING IN THIS CELL THAT IS BELOW THIS LINE\\n\""
      ]
     },
     "execution_count": 44,
     "metadata": {},
     "output_type": "execute_result"
    },
    {
     "name": "stdout",
     "output_type": "stream",
     "text": [
      "Tests Passed\n"
     ]
    }
   ],
   "source": [
    "def model_inputs():\n",
    "    \"\"\"\n",
    "    Create TF Placeholders for input, targets, and learning rate.\n",
    "    :return: Tuple (input, targets, learning rate, keep probability)\n",
    "    \"\"\"\n",
    "    input_data = tf.placeholder(tf.int32, [None, None], \"input\")\n",
    "    targets = tf.placeholder(tf.int32, [None, None])\n",
    "    lr = tf.placeholder(tf.float32)\n",
    "    keep_prob = tf.placeholder(tf.float32, name = \"keep_prob\")\n",
    "    return input_data, targets, lr, keep_prob\n",
    "\n",
    "\"\"\"\n",
    "DON'T MODIFY ANYTHING IN THIS CELL THAT IS BELOW THIS LINE\n",
    "\"\"\"\n",
    "tests.test_model_inputs(model_inputs)"
   ]
  },
  {
   "cell_type": "markdown",
   "metadata": {
    "deletable": true,
    "editable": true
   },
   "source": [
    "### Process Decoding Input\n",
    "Implement `process_decoding_input` using TensorFlow to remove the last word id from each batch in `target_data` and concat the GO ID to the beginning of each batch."
   ]
  },
  {
   "cell_type": "code",
   "execution_count": 45,
   "metadata": {
    "collapsed": false,
    "deletable": true,
    "editable": true
   },
   "outputs": [
    {
     "data": {
      "text/plain": [
       "\"\\nDON'T MODIFY ANYTHING IN THIS CELL THAT IS BELOW THIS LINE\\n\""
      ]
     },
     "execution_count": 45,
     "metadata": {},
     "output_type": "execute_result"
    },
    {
     "name": "stdout",
     "output_type": "stream",
     "text": [
      "Tests Passed\n"
     ]
    }
   ],
   "source": [
    "def process_decoding_input(target_data, target_vocab_to_int, batch_size):\n",
    "    \"\"\"\n",
    "    Preprocess target data for dencoding\n",
    "    :param target_data: Target Placehoder\n",
    "    :param target_vocab_to_int: Dictionary to go from the target words to an id\n",
    "    :param batch_size: Batch Size\n",
    "    :return: Preprocessed target data\n",
    "    \"\"\"\n",
    "    \n",
    "    ending_removed = tf.strided_slice(target_data, [0, 0], [batch_size, -1], [1, 1])\n",
    "    prep_target = tf.concat([tf.fill([batch_size, 1], target_vocab_to_int['<GO>']), ending_removed], 1)\n",
    "    \n",
    "    return prep_target\n",
    "\n",
    "\"\"\"\n",
    "DON'T MODIFY ANYTHING IN THIS CELL THAT IS BELOW THIS LINE\n",
    "\"\"\"\n",
    "tests.test_process_decoding_input(process_decoding_input)"
   ]
  },
  {
   "cell_type": "markdown",
   "metadata": {
    "deletable": true,
    "editable": true
   },
   "source": [
    "### Encoding\n",
    "Implement `encoding_layer()` to create a Encoder RNN layer using [`tf.nn.dynamic_rnn()`](https://www.tensorflow.org/api_docs/python/tf/nn/dynamic_rnn)."
   ]
  },
  {
   "cell_type": "code",
   "execution_count": 46,
   "metadata": {
    "collapsed": false,
    "deletable": true,
    "editable": true
   },
   "outputs": [
    {
     "data": {
      "text/plain": [
       "\"\\nDON'T MODIFY ANYTHING IN THIS CELL THAT IS BELOW THIS LINE\\n\""
      ]
     },
     "execution_count": 46,
     "metadata": {},
     "output_type": "execute_result"
    },
    {
     "name": "stdout",
     "output_type": "stream",
     "text": [
      "Tests Passed\n"
     ]
    }
   ],
   "source": [
    "def encoding_layer(rnn_inputs, rnn_size, num_layers, keep_prob):\n",
    "    \"\"\"\n",
    "    Create encoding layer\n",
    "    :param rnn_inputs: Inputs for the RNN\n",
    "    :param rnn_size: RNN Size\n",
    "    :param num_layers: Number of layers\n",
    "    :param keep_prob: Dropout keep probability\n",
    "    :return: RNN state\n",
    "    \"\"\"\n",
    "\n",
    "    # Encoder\n",
    "    basic_cell = tf.contrib.rnn.BasicLSTMCell(rnn_size)\n",
    "    cell = tf.contrib.rnn.MultiRNNCell([basic_cell] * num_layers)\n",
    "    dropout_cell = tf.contrib.rnn.DropoutWrapper(cell, output_keep_prob=keep_prob)\n",
    "    _, enc_state = tf.nn.dynamic_rnn(dropout_cell, rnn_inputs, dtype=tf.float32)\n",
    "    return enc_state\n",
    "\n",
    "\"\"\"\n",
    "DON'T MODIFY ANYTHING IN THIS CELL THAT IS BELOW THIS LINE\n",
    "\"\"\"\n",
    "tests.test_encoding_layer(encoding_layer)"
   ]
  },
  {
   "cell_type": "markdown",
   "metadata": {
    "deletable": true,
    "editable": true
   },
   "source": [
    "### Decoding - Training\n",
    "Create training logits using [`tf.contrib.seq2seq.simple_decoder_fn_train()`](https://www.tensorflow.org/versions/r1.0/api_docs/python/tf/contrib/seq2seq/simple_decoder_fn_train) and [`tf.contrib.seq2seq.dynamic_rnn_decoder()`](https://www.tensorflow.org/versions/r1.0/api_docs/python/tf/contrib/seq2seq/dynamic_rnn_decoder).  Apply the `output_fn` to the [`tf.contrib.seq2seq.dynamic_rnn_decoder()`](https://www.tensorflow.org/versions/r1.0/api_docs/python/tf/contrib/seq2seq/dynamic_rnn_decoder) outputs."
   ]
  },
  {
   "cell_type": "code",
   "execution_count": 47,
   "metadata": {
    "collapsed": false,
    "deletable": true,
    "editable": true
   },
   "outputs": [
    {
     "data": {
      "text/plain": [
       "\"\\nDON'T MODIFY ANYTHING IN THIS CELL THAT IS BELOW THIS LINE\\n\""
      ]
     },
     "execution_count": 47,
     "metadata": {},
     "output_type": "execute_result"
    },
    {
     "name": "stdout",
     "output_type": "stream",
     "text": [
      "Tests Passed\n"
     ]
    }
   ],
   "source": [
    "def decoding_layer_train(encoder_state, dec_cell, dec_embed_input, sequence_length, decoding_scope,\n",
    "                         output_fn, keep_prob):\n",
    "    \"\"\"\n",
    "    Create a decoding layer for training\n",
    "    :param encoder_state: Encoder State\n",
    "    :param dec_cell: Decoder RNN Cell\n",
    "    :param dec_embed_input: Decoder embedded input\n",
    "    :param sequence_length: Sequence Length\n",
    "    :param decoding_scope: TenorFlow Variable Scope for decoding\n",
    "    :param output_fn: Function to apply the output layer\n",
    "    :param keep_prob: Dropout keep probability\n",
    "    :return: Train Logits\n",
    "    \"\"\"\n",
    "\n",
    "    # Training Decoder\n",
    "    train_decoder_fn = tf.contrib.seq2seq.simple_decoder_fn_train(encoder_state)\n",
    "    train_pred, _, _ = tf.contrib.seq2seq.dynamic_rnn_decoder(\n",
    "        dec_cell, train_decoder_fn, dec_embed_input, sequence_length, scope=decoding_scope)\n",
    "    \n",
    "    # Apply output function\n",
    "    train_logits =  output_fn(train_pred)\n",
    "    \n",
    "    return train_logits\n",
    "\n",
    "\n",
    "\"\"\"\n",
    "DON'T MODIFY ANYTHING IN THIS CELL THAT IS BELOW THIS LINE\n",
    "\"\"\"\n",
    "tests.test_decoding_layer_train(decoding_layer_train)"
   ]
  },
  {
   "cell_type": "markdown",
   "metadata": {
    "deletable": true,
    "editable": true
   },
   "source": [
    "### Decoding - Inference\n",
    "Create inference logits using [`tf.contrib.seq2seq.simple_decoder_fn_inference()`](https://www.tensorflow.org/versions/r1.0/api_docs/python/tf/contrib/seq2seq/simple_decoder_fn_inference) and [`tf.contrib.seq2seq.dynamic_rnn_decoder()`](https://www.tensorflow.org/versions/r1.0/api_docs/python/tf/contrib/seq2seq/dynamic_rnn_decoder). "
   ]
  },
  {
   "cell_type": "code",
   "execution_count": 48,
   "metadata": {
    "collapsed": false,
    "deletable": true,
    "editable": true
   },
   "outputs": [
    {
     "data": {
      "text/plain": [
       "\"\\nDON'T MODIFY ANYTHING IN THIS CELL THAT IS BELOW THIS LINE\\n\""
      ]
     },
     "execution_count": 48,
     "metadata": {},
     "output_type": "execute_result"
    },
    {
     "name": "stdout",
     "output_type": "stream",
     "text": [
      "Tests Passed\n"
     ]
    }
   ],
   "source": [
    "def decoding_layer_infer(encoder_state, dec_cell, dec_embeddings, start_of_sequence_id, end_of_sequence_id,\n",
    "                         maximum_length, vocab_size, decoding_scope, output_fn, keep_prob):\n",
    "    \"\"\"\n",
    "    Create a decoding layer for inference\n",
    "    :param encoder_state: Encoder state\n",
    "    :param dec_cell: Decoder RNN Cell\n",
    "    :param dec_embeddings: Decoder embeddings\n",
    "    :param start_of_sequence_id: GO ID\n",
    "    :param end_of_sequence_id: EOS Id\n",
    "    :param maximum_length: The maximum allowed time steps to decode\n",
    "    :param vocab_size: Size of vocabulary\n",
    "    :param decoding_scope: TensorFlow Variable Scope for decoding\n",
    "    :param output_fn: Function to apply the output layer\n",
    "    :param keep_prob: Dropout keep probability\n",
    "    :return: Inference Logits\n",
    "    \"\"\"\n",
    "    \n",
    "    infer_decoder_fn = tf.contrib.seq2seq.simple_decoder_fn_inference(\n",
    "        output_fn, encoder_state, dec_embeddings, start_of_sequence_id, end_of_sequence_id, \n",
    "        maximum_length - 1, vocab_size)\n",
    "    inference_logits, _, _ = tf.contrib.seq2seq.dynamic_rnn_decoder(dec_cell, infer_decoder_fn, scope=decoding_scope)\n",
    "    \n",
    "    return inference_logits\n",
    "\n",
    "\n",
    "\"\"\"\n",
    "DON'T MODIFY ANYTHING IN THIS CELL THAT IS BELOW THIS LINE\n",
    "\"\"\"\n",
    "tests.test_decoding_layer_infer(decoding_layer_infer)"
   ]
  },
  {
   "cell_type": "markdown",
   "metadata": {
    "deletable": true,
    "editable": true
   },
   "source": [
    "### Build the Decoding Layer\n",
    "Implement `decoding_layer()` to create a Decoder RNN layer.\n",
    "\n",
    "- Create RNN cell for decoding using `rnn_size` and `num_layers`.\n",
    "- Create the output fuction using [`lambda`](https://docs.python.org/3/tutorial/controlflow.html#lambda-expressions) to transform it's input, logits, to class logits.\n",
    "- Use the your `decoding_layer_train(encoder_state, dec_cell, dec_embed_input, sequence_length, decoding_scope, output_fn, keep_prob)` function to get the training logits.\n",
    "- Use your `decoding_layer_infer(encoder_state, dec_cell, dec_embeddings, start_of_sequence_id, end_of_sequence_id, maximum_length, vocab_size, decoding_scope, output_fn, keep_prob)` function to get the inference logits.\n",
    "\n",
    "Note: You'll need to use [tf.variable_scope](https://www.tensorflow.org/api_docs/python/tf/variable_scope) to share variables between training and inference."
   ]
  },
  {
   "cell_type": "code",
   "execution_count": 49,
   "metadata": {
    "collapsed": false,
    "deletable": true,
    "editable": true
   },
   "outputs": [
    {
     "data": {
      "text/plain": [
       "\"\\nDON'T MODIFY ANYTHING IN THIS CELL THAT IS BELOW THIS LINE\\n\""
      ]
     },
     "execution_count": 49,
     "metadata": {},
     "output_type": "execute_result"
    },
    {
     "name": "stdout",
     "output_type": "stream",
     "text": [
      "Tests Passed\n"
     ]
    }
   ],
   "source": [
    "def decoding_layer(dec_embed_input, dec_embeddings, encoder_state, vocab_size, sequence_length, rnn_size,\n",
    "                   num_layers, target_vocab_to_int, keep_prob):\n",
    "    \"\"\"\n",
    "    Create decoding layer\n",
    "    :param dec_embed_input: Decoder embedded input\n",
    "    :param dec_embeddings: Decoder embeddings\n",
    "    :param encoder_state: The encoded state\n",
    "    :param vocab_size: Size of vocabulary\n",
    "    :param sequence_length: Sequence Length\n",
    "    :param rnn_size: RNN Size\n",
    "    :param num_layers: Number of layers\n",
    "    :param target_vocab_to_int: Dictionary to go from the target words to an id\n",
    "    :param keep_prob: Dropout keep probability\n",
    "    :return: Tuple of (Training Logits, Inference Logits)\n",
    "    \"\"\"\n",
    "    \n",
    "    # Decoder RNNs\n",
    "    basic_cell = tf.contrib.rnn.BasicLSTMCell(rnn_size)\n",
    "    cell = tf.contrib.rnn.MultiRNNCell([basic_cell] * num_layers)\n",
    "\n",
    "    with tf.variable_scope(\"decoding\") as decoding_scope:\n",
    "        output_fn = lambda x: tf.contrib.layers.fully_connected(x, vocab_size, None, scope=decoding_scope)\n",
    "        \n",
    "    with tf.variable_scope(\"decoding\") as decoding_scope:\n",
    "        training_logits = decoding_layer_train(encoder_state, cell, dec_embed_input, sequence_length, \n",
    "                                               decoding_scope, output_fn, keep_prob)\n",
    "        \n",
    "    with tf.variable_scope(\"decoding\", reuse=True) as decoding_scope:\n",
    "        inference_logits = decoding_layer_infer(encoder_state, cell, dec_embeddings, target_vocab_to_int['<GO>'], \n",
    "                                                target_vocab_to_int['<EOS>'], sequence_length, vocab_size, \n",
    "                                                decoding_scope, output_fn, keep_prob)\n",
    "        \n",
    "    return training_logits, inference_logits\n",
    "\n",
    "\n",
    "\"\"\"\n",
    "DON'T MODIFY ANYTHING IN THIS CELL THAT IS BELOW THIS LINE\n",
    "\"\"\"\n",
    "tests.test_decoding_layer(decoding_layer)"
   ]
  },
  {
   "cell_type": "markdown",
   "metadata": {
    "deletable": true,
    "editable": true
   },
   "source": [
    "### Build the Neural Network\n",
    "Apply the functions you implemented above to:\n",
    "\n",
    "- Apply embedding to the input data for the encoder.\n",
    "- Encode the input using your `encoding_layer(rnn_inputs, rnn_size, num_layers, keep_prob)`.\n",
    "- Process target data using your `process_decoding_input(target_data, target_vocab_to_int, batch_size)` function.\n",
    "- Apply embedding to the target data for the decoder.\n",
    "- Decode the encoded input using your `decoding_layer(dec_embed_input, dec_embeddings, encoder_state, vocab_size, sequence_length, rnn_size, num_layers, target_vocab_to_int, keep_prob)`."
   ]
  },
  {
   "cell_type": "code",
   "execution_count": 50,
   "metadata": {
    "collapsed": false,
    "deletable": true,
    "editable": true
   },
   "outputs": [
    {
     "data": {
      "text/plain": [
       "\"\\nDON'T MODIFY ANYTHING IN THIS CELL THAT IS BELOW THIS LINE\\n\""
      ]
     },
     "execution_count": 50,
     "metadata": {},
     "output_type": "execute_result"
    },
    {
     "name": "stdout",
     "output_type": "stream",
     "text": [
      "Tests Passed\n"
     ]
    }
   ],
   "source": [
    "def seq2seq_model(input_data, target_data, keep_prob, batch_size, sequence_length, source_vocab_size, target_vocab_size,\n",
    "                  enc_embedding_size, dec_embedding_size, rnn_size, num_layers, target_vocab_to_int):\n",
    "    \"\"\"\n",
    "    Build the Sequence-to-Sequence part of the neural network\n",
    "    :param input_data: Input placeholder\n",
    "    :param target_data: Target placeholder\n",
    "    :param keep_prob: Dropout keep probability placeholder\n",
    "    :param batch_size: Batch Size\n",
    "    :param sequence_length: Sequence Length\n",
    "    :param source_vocab_size: Source vocabulary size\n",
    "    :param target_vocab_size: Target vocabulary size\n",
    "    :param enc_embedding_size: Decoder embedding size\n",
    "    :param dec_embedding_size: Encoder embedding size\n",
    "    :param rnn_size: RNN Size\n",
    "    :param num_layers: Number of layers\n",
    "    :param target_vocab_to_int: Dictionary to go from the target words to an id\n",
    "    :return: Tuple of (Training Logits, Inference Logits)\n",
    "    \"\"\"\n",
    "    # Embedding to the input data for the encoder\n",
    "    embed_input = tf.contrib.layers.embed_sequence(input_data, source_vocab_size, enc_embedding_size)\n",
    "    \n",
    "    # Encode input\n",
    "    encoded_input = encoding_layer(embed_input, rnn_size, num_layers, keep_prob)\n",
    "    encoded_input_proc = process_decoding_input(target_data, target_vocab_to_int, batch_size)\n",
    "    \n",
    "    # Decoder embedding\n",
    "    dec_embeddings = tf.Variable(tf.random_uniform([target_vocab_size, dec_embedding_size]))\n",
    "    dec_embed_input = tf.nn.embedding_lookup(dec_embeddings, encoded_input_proc)\n",
    "    \n",
    "    # Decode input\n",
    "    decoded = decoding_layer(dec_embed_input, dec_embeddings, encoded_input, target_vocab_size, \n",
    "                             sequence_length, rnn_size, num_layers, target_vocab_to_int, keep_prob)\n",
    "    \n",
    "    return decoded\n",
    "\n",
    "\n",
    "\"\"\"\n",
    "DON'T MODIFY ANYTHING IN THIS CELL THAT IS BELOW THIS LINE\n",
    "\"\"\"\n",
    "tests.test_seq2seq_model(seq2seq_model)"
   ]
  },
  {
   "cell_type": "markdown",
   "metadata": {
    "deletable": true,
    "editable": true
   },
   "source": [
    "## Neural Network Training\n",
    "### Hyperparameters\n",
    "Tune the following parameters:\n",
    "\n",
    "- Set `epochs` to the number of epochs.\n",
    "- Set `batch_size` to the batch size.\n",
    "- Set `rnn_size` to the size of the RNNs.\n",
    "- Set `num_layers` to the number of layers.\n",
    "- Set `encoding_embedding_size` to the size of the embedding for the encoder.\n",
    "- Set `decoding_embedding_size` to the size of the embedding for the decoder.\n",
    "- Set `learning_rate` to the learning rate.\n",
    "- Set `keep_probability` to the Dropout keep probability"
   ]
  },
  {
   "cell_type": "code",
   "execution_count": 55,
   "metadata": {
    "collapsed": true,
    "deletable": true,
    "editable": true
   },
   "outputs": [],
   "source": [
    "# Number of Epochs\n",
    "epochs = 1\n",
    "# Batch Size\n",
    "# batch_size = 32 # too small\n",
    "batch_size = 512\n",
    "# RNN Size\n",
    "rnn_size = 5\n",
    "# Number of Layers\n",
    "num_layers = 1\n",
    "# Embedding Size\n",
    "encoding_embedding_size = 32\n",
    "decoding_embedding_size = 32\n",
    "# Learning Rate\n",
    "learning_rate = 0.1\n",
    "# Dropout Keep Probability\n",
    "keep_probability = 0.9"
   ]
  },
  {
   "cell_type": "markdown",
   "metadata": {
    "deletable": true,
    "editable": true
   },
   "source": [
    "### Build the Graph\n",
    "Build the graph using the neural network you implemented."
   ]
  },
  {
   "cell_type": "code",
   "execution_count": 56,
   "metadata": {
    "collapsed": false,
    "deletable": true,
    "editable": true
   },
   "outputs": [
    {
     "data": {
      "text/plain": [
       "\"\\nDON'T MODIFY ANYTHING IN THIS CELL\\n\""
      ]
     },
     "execution_count": 56,
     "metadata": {},
     "output_type": "execute_result"
    },
    {
     "data": {
      "text/plain": [
       "<tf.Tensor 'logits:0' shape=(?, ?, 358) dtype=float32>"
      ]
     },
     "execution_count": 56,
     "metadata": {},
     "output_type": "execute_result"
    }
   ],
   "source": [
    "\"\"\"\n",
    "DON'T MODIFY ANYTHING IN THIS CELL\n",
    "\"\"\"\n",
    "save_path = 'checkpoints/dev'\n",
    "(source_int_text, target_int_text), (source_vocab_to_int, target_vocab_to_int), _ = helper.load_preprocess()\n",
    "max_source_sentence_length = max([len(sentence) for sentence in source_int_text])\n",
    "\n",
    "train_graph = tf.Graph()\n",
    "with train_graph.as_default():\n",
    "    input_data, targets, lr, keep_prob = model_inputs()\n",
    "    sequence_length = tf.placeholder_with_default(max_source_sentence_length, None, name='sequence_length')\n",
    "    input_shape = tf.shape(input_data)\n",
    "    \n",
    "    train_logits, inference_logits = seq2seq_model(\n",
    "        tf.reverse(input_data, [-1]), targets, keep_prob, batch_size, sequence_length, len(source_vocab_to_int), len(target_vocab_to_int),\n",
    "        encoding_embedding_size, decoding_embedding_size, rnn_size, num_layers, target_vocab_to_int)\n",
    "\n",
    "    tf.identity(inference_logits, 'logits')\n",
    "    with tf.name_scope(\"optimization\"):\n",
    "        # Loss function\n",
    "        cost = tf.contrib.seq2seq.sequence_loss(\n",
    "            train_logits,\n",
    "            targets,\n",
    "            tf.ones([input_shape[0], sequence_length]))\n",
    "\n",
    "        # Optimizer\n",
    "        optimizer = tf.train.AdamOptimizer(lr)\n",
    "\n",
    "        # Gradient Clipping\n",
    "        gradients = optimizer.compute_gradients(cost)\n",
    "        capped_gradients = [(tf.clip_by_value(grad, -1., 1.), var) for grad, var in gradients if grad is not None]\n",
    "        train_op = optimizer.apply_gradients(capped_gradients)"
   ]
  },
  {
   "cell_type": "markdown",
   "metadata": {
    "deletable": true,
    "editable": true
   },
   "source": [
    "### Train\n",
    "Train the neural network on the preprocessed data. If you have a hard time getting a good loss, check the forms to see if anyone is having the same problem."
   ]
  },
  {
   "cell_type": "code",
   "execution_count": 57,
   "metadata": {
    "collapsed": false,
    "deletable": true,
    "editable": true,
    "scrolled": true
   },
   "outputs": [
    {
     "data": {
      "text/plain": [
       "\"\\nDON'T MODIFY ANYTHING IN THIS CELL\\n\""
      ]
     },
     "execution_count": 57,
     "metadata": {},
     "output_type": "execute_result"
    },
    {
     "name": "stdout",
     "output_type": "stream",
     "text": [
      "Epoch   0 Batch    0/269 - Train Accuracy:  0.141, Validation Accuracy:  0.218, Loss:  5.892\n",
      "Epoch   0 Batch    1/269 - Train Accuracy:  0.137, Validation Accuracy:  0.218, Loss:  5.855\n",
      "Epoch   0 Batch    2/269 - Train Accuracy:  0.216, Validation Accuracy:  0.252, Loss:  5.612\n",
      "Epoch   0 Batch    3/269 - Train Accuracy:  0.249, Validation Accuracy:  0.313, Loss:  5.485\n",
      "Epoch   0 Batch    4/269 - Train Accuracy:  0.232, Validation Accuracy:  0.310, Loss:  5.361\n",
      "Epoch   0 Batch    5/269 - Train Accuracy:  0.173, Validation Accuracy:  0.249, Loss:  5.247\n",
      "Epoch   0 Batch    6/269 - Train Accuracy:  0.278, Validation Accuracy:  0.310, Loss:  5.124\n",
      "Epoch   0 Batch    7/269 - Train Accuracy:  0.276, Validation Accuracy:  0.310, Loss:  5.013\n",
      "Epoch   0 Batch    8/269 - Train Accuracy:  0.241, Validation Accuracy:  0.310, Loss:  4.927\n",
      "Epoch   0 Batch    9/269 - Train Accuracy:  0.267, Validation Accuracy:  0.310, Loss:  4.818\n",
      "Epoch   0 Batch   10/269 - Train Accuracy:  0.233, Validation Accuracy:  0.310, Loss:  4.732\n",
      "Epoch   0 Batch   11/269 - Train Accuracy:  0.271, Validation Accuracy:  0.310, Loss:  4.634\n",
      "Epoch   0 Batch   12/269 - Train Accuracy:  0.244, Validation Accuracy:  0.310, Loss:  4.576\n",
      "Epoch   0 Batch   13/269 - Train Accuracy:  0.311, Validation Accuracy:  0.310, Loss:  4.447\n",
      "Epoch   0 Batch   14/269 - Train Accuracy:  0.273, Validation Accuracy:  0.313, Loss:  4.398\n",
      "Epoch   0 Batch   15/269 - Train Accuracy:  0.267, Validation Accuracy:  0.315, Loss:  4.330\n",
      "Epoch   0 Batch   16/269 - Train Accuracy:  0.284, Validation Accuracy:  0.315, Loss:  4.265\n",
      "Epoch   0 Batch   17/269 - Train Accuracy:  0.273, Validation Accuracy:  0.316, Loss:  4.196\n",
      "Epoch   0 Batch   18/269 - Train Accuracy:  0.241, Validation Accuracy:  0.316, Loss:  4.172\n",
      "Epoch   0 Batch   19/269 - Train Accuracy:  0.313, Validation Accuracy:  0.316, Loss:  4.036\n",
      "Epoch   0 Batch   20/269 - Train Accuracy:  0.245, Validation Accuracy:  0.316, Loss:  4.041\n",
      "Epoch   0 Batch   21/269 - Train Accuracy:  0.246, Validation Accuracy:  0.316, Loss:  4.009\n",
      "Epoch   0 Batch   22/269 - Train Accuracy:  0.295, Validation Accuracy:  0.323, Loss:  3.906\n",
      "Epoch   0 Batch   23/269 - Train Accuracy:  0.242, Validation Accuracy:  0.262, Loss:  3.857\n",
      "Epoch   0 Batch   24/269 - Train Accuracy:  0.192, Validation Accuracy:  0.265, Loss:  3.863\n",
      "Epoch   0 Batch   25/269 - Train Accuracy:  0.194, Validation Accuracy:  0.267, Loss:  3.829\n",
      "Epoch   0 Batch   26/269 - Train Accuracy:  0.274, Validation Accuracy:  0.266, Loss:  3.682\n",
      "Epoch   0 Batch   27/269 - Train Accuracy:  0.239, Validation Accuracy:  0.267, Loss:  3.716\n",
      "Epoch   0 Batch   28/269 - Train Accuracy:  0.194, Validation Accuracy:  0.267, Loss:  3.749\n",
      "Epoch   0 Batch   29/269 - Train Accuracy:  0.256, Validation Accuracy:  0.330, Loss:  3.698\n",
      "Epoch   0 Batch   30/269 - Train Accuracy:  0.290, Validation Accuracy:  0.330, Loss:  3.615\n",
      "Epoch   0 Batch   31/269 - Train Accuracy:  0.304, Validation Accuracy:  0.330, Loss:  3.586\n",
      "Epoch   0 Batch   32/269 - Train Accuracy:  0.294, Validation Accuracy:  0.333, Loss:  3.573\n",
      "Epoch   0 Batch   33/269 - Train Accuracy:  0.299, Validation Accuracy:  0.330, Loss:  3.498\n",
      "Epoch   0 Batch   34/269 - Train Accuracy:  0.297, Validation Accuracy:  0.330, Loss:  3.493\n",
      "Epoch   0 Batch   35/269 - Train Accuracy:  0.298, Validation Accuracy:  0.330, Loss:  3.460\n",
      "Epoch   0 Batch   36/269 - Train Accuracy:  0.299, Validation Accuracy:  0.331, Loss:  3.449\n",
      "Epoch   0 Batch   37/269 - Train Accuracy:  0.302, Validation Accuracy:  0.330, Loss:  3.425\n",
      "Epoch   0 Batch   38/269 - Train Accuracy:  0.299, Validation Accuracy:  0.329, Loss:  3.398\n",
      "Epoch   0 Batch   39/269 - Train Accuracy:  0.299, Validation Accuracy:  0.331, Loss:  3.369\n",
      "Epoch   0 Batch   40/269 - Train Accuracy:  0.273, Validation Accuracy:  0.338, Loss:  3.446\n",
      "Epoch   0 Batch   41/269 - Train Accuracy:  0.302, Validation Accuracy:  0.336, Loss:  3.347\n",
      "Epoch   0 Batch   42/269 - Train Accuracy:  0.328, Validation Accuracy:  0.332, Loss:  3.261\n",
      "Epoch   0 Batch   43/269 - Train Accuracy:  0.278, Validation Accuracy:  0.336, Loss:  3.413\n",
      "Epoch   0 Batch   44/269 - Train Accuracy:  0.309, Validation Accuracy:  0.335, Loss:  3.319\n",
      "Epoch   0 Batch   45/269 - Train Accuracy:  0.273, Validation Accuracy:  0.335, Loss:  3.408\n",
      "Epoch   0 Batch   46/269 - Train Accuracy:  0.254, Validation Accuracy:  0.332, Loss:  3.415\n",
      "Epoch   0 Batch   47/269 - Train Accuracy:  0.336, Validation Accuracy:  0.335, Loss:  3.198\n",
      "Epoch   0 Batch   48/269 - Train Accuracy:  0.306, Validation Accuracy:  0.336, Loss:  3.282\n",
      "Epoch   0 Batch   49/269 - Train Accuracy:  0.275, Validation Accuracy:  0.336, Loss:  3.382\n",
      "Epoch   0 Batch   50/269 - Train Accuracy:  0.281, Validation Accuracy:  0.340, Loss:  3.376\n",
      "Epoch   0 Batch   51/269 - Train Accuracy:  0.301, Validation Accuracy:  0.339, Loss:  3.309\n",
      "Epoch   0 Batch   52/269 - Train Accuracy:  0.307, Validation Accuracy:  0.337, Loss:  3.268\n",
      "Epoch   0 Batch   53/269 - Train Accuracy:  0.281, Validation Accuracy:  0.340, Loss:  3.370\n",
      "Epoch   0 Batch   54/269 - Train Accuracy:  0.281, Validation Accuracy:  0.344, Loss:  3.355\n",
      "Epoch   0 Batch   55/269 - Train Accuracy:  0.312, Validation Accuracy:  0.343, Loss:  3.260\n",
      "Epoch   0 Batch   56/269 - Train Accuracy:  0.315, Validation Accuracy:  0.342, Loss:  3.260\n",
      "Epoch   0 Batch   57/269 - Train Accuracy:  0.311, Validation Accuracy:  0.340, Loss:  3.266\n",
      "Epoch   0 Batch   58/269 - Train Accuracy:  0.310, Validation Accuracy:  0.339, Loss:  3.252\n",
      "Epoch   0 Batch   59/269 - Train Accuracy:  0.307, Validation Accuracy:  0.339, Loss:  3.237\n",
      "Epoch   0 Batch   60/269 - Train Accuracy:  0.320, Validation Accuracy:  0.334, Loss:  3.191\n",
      "Epoch   0 Batch   61/269 - Train Accuracy:  0.338, Validation Accuracy:  0.337, Loss:  3.149\n",
      "Epoch   0 Batch   62/269 - Train Accuracy:  0.333, Validation Accuracy:  0.337, Loss:  3.169\n",
      "Epoch   0 Batch   63/269 - Train Accuracy:  0.304, Validation Accuracy:  0.336, Loss:  3.227\n",
      "Epoch   0 Batch   64/269 - Train Accuracy:  0.300, Validation Accuracy:  0.336, Loss:  3.238\n",
      "Epoch   0 Batch   65/269 - Train Accuracy:  0.305, Validation Accuracy:  0.336, Loss:  3.213\n",
      "Epoch   0 Batch   66/269 - Train Accuracy:  0.329, Validation Accuracy:  0.339, Loss:  3.168\n",
      "Epoch   0 Batch   67/269 - Train Accuracy:  0.302, Validation Accuracy:  0.339, Loss:  3.239\n",
      "Epoch   0 Batch   68/269 - Train Accuracy:  0.316, Validation Accuracy:  0.342, Loss:  3.076\n",
      "Epoch   0 Batch   69/269 - Train Accuracy:  0.270, Validation Accuracy:  0.338, Loss:  3.112\n",
      "Epoch   0 Batch   70/269 - Train Accuracy:  0.317, Validation Accuracy:  0.336, Loss:  2.880\n",
      "Epoch   0 Batch   71/269 - Train Accuracy:  0.275, Validation Accuracy:  0.339, Loss:  3.046\n",
      "Epoch   0 Batch   72/269 - Train Accuracy:  0.338, Validation Accuracy:  0.339, Loss:  2.784\n",
      "Epoch   0 Batch   73/269 - Train Accuracy:  0.314, Validation Accuracy:  0.342, Loss:  2.861\n",
      "Epoch   0 Batch   74/269 - Train Accuracy:  0.287, Validation Accuracy:  0.346, Loss:  2.963\n",
      "Epoch   0 Batch   75/269 - Train Accuracy:  0.316, Validation Accuracy:  0.346, Loss:  2.834\n",
      "Epoch   0 Batch   76/269 - Train Accuracy:  0.297, Validation Accuracy:  0.345, Loss:  2.887\n",
      "Epoch   0 Batch   77/269 - Train Accuracy:  0.317, Validation Accuracy:  0.345, Loss:  2.793\n",
      "Epoch   0 Batch   78/269 - Train Accuracy:  0.309, Validation Accuracy:  0.347, Loss:  2.794\n",
      "Epoch   0 Batch   79/269 - Train Accuracy:  0.309, Validation Accuracy:  0.344, Loss:  2.789\n",
      "Epoch   0 Batch   80/269 - Train Accuracy:  0.326, Validation Accuracy:  0.346, Loss:  2.705\n",
      "Epoch   0 Batch   81/269 - Train Accuracy:  0.311, Validation Accuracy:  0.342, Loss:  2.741\n",
      "Epoch   0 Batch   82/269 - Train Accuracy:  0.319, Validation Accuracy:  0.342, Loss:  2.680\n",
      "Epoch   0 Batch   83/269 - Train Accuracy:  0.317, Validation Accuracy:  0.342, Loss:  2.664\n",
      "Epoch   0 Batch   84/269 - Train Accuracy:  0.311, Validation Accuracy:  0.347, Loss:  2.678\n",
      "Epoch   0 Batch   85/269 - Train Accuracy:  0.287, Validation Accuracy:  0.316, Loss:  2.706\n",
      "Epoch   0 Batch   86/269 - Train Accuracy:  0.282, Validation Accuracy:  0.315, Loss:  2.681\n",
      "Epoch   0 Batch   87/269 - Train Accuracy:  0.247, Validation Accuracy:  0.313, Loss:  2.817\n",
      "Epoch   0 Batch   88/269 - Train Accuracy:  0.283, Validation Accuracy:  0.314, Loss:  2.616\n",
      "Epoch   0 Batch   89/269 - Train Accuracy:  0.289, Validation Accuracy:  0.317, Loss:  2.607\n",
      "Epoch   0 Batch   90/269 - Train Accuracy:  0.254, Validation Accuracy:  0.319, Loss:  2.778\n",
      "Epoch   0 Batch   91/269 - Train Accuracy:  0.284, Validation Accuracy:  0.317, Loss:  2.582\n",
      "Epoch   0 Batch   92/269 - Train Accuracy:  0.318, Validation Accuracy:  0.350, Loss:  2.604\n",
      "Epoch   0 Batch   93/269 - Train Accuracy:  0.341, Validation Accuracy:  0.345, Loss:  2.485\n",
      "Epoch   0 Batch   94/269 - Train Accuracy:  0.322, Validation Accuracy:  0.345, Loss:  2.589\n",
      "Epoch   0 Batch   95/269 - Train Accuracy:  0.323, Validation Accuracy:  0.354, Loss:  2.574\n",
      "Epoch   0 Batch   96/269 - Train Accuracy:  0.321, Validation Accuracy:  0.354, Loss:  2.550\n",
      "Epoch   0 Batch   97/269 - Train Accuracy:  0.330, Validation Accuracy:  0.356, Loss:  2.540\n",
      "Epoch   0 Batch   98/269 - Train Accuracy:  0.339, Validation Accuracy:  0.356, Loss:  2.489\n",
      "Epoch   0 Batch   99/269 - Train Accuracy:  0.251, Validation Accuracy:  0.314, Loss:  2.640\n",
      "Epoch   0 Batch  100/269 - Train Accuracy:  0.346, Validation Accuracy:  0.362, Loss:  2.458\n",
      "Epoch   0 Batch  101/269 - Train Accuracy:  0.300, Validation Accuracy:  0.360, Loss:  2.624\n",
      "Epoch   0 Batch  102/269 - Train Accuracy:  0.331, Validation Accuracy:  0.359, Loss:  2.472\n",
      "Epoch   0 Batch  103/269 - Train Accuracy:  0.339, Validation Accuracy:  0.360, Loss:  2.461\n",
      "Epoch   0 Batch  104/269 - Train Accuracy:  0.324, Validation Accuracy:  0.360, Loss:  2.481\n",
      "Epoch   0 Batch  105/269 - Train Accuracy:  0.331, Validation Accuracy:  0.361, Loss:  2.472\n",
      "Epoch   0 Batch  106/269 - Train Accuracy:  0.327, Validation Accuracy:  0.360, Loss:  2.469\n",
      "Epoch   0 Batch  107/269 - Train Accuracy:  0.286, Validation Accuracy:  0.359, Loss:  2.607\n",
      "Epoch   0 Batch  108/269 - Train Accuracy:  0.321, Validation Accuracy:  0.359, Loss:  2.472\n",
      "Epoch   0 Batch  109/269 - Train Accuracy:  0.331, Validation Accuracy:  0.358, Loss:  2.455\n",
      "Epoch   0 Batch  110/269 - Train Accuracy:  0.328, Validation Accuracy:  0.357, Loss:  2.418\n",
      "Epoch   0 Batch  111/269 - Train Accuracy:  0.299, Validation Accuracy:  0.358, Loss:  2.560\n",
      "Epoch   0 Batch  112/269 - Train Accuracy:  0.329, Validation Accuracy:  0.357, Loss:  2.421\n",
      "Epoch   0 Batch  113/269 - Train Accuracy:  0.358, Validation Accuracy:  0.360, Loss:  2.335\n",
      "Epoch   0 Batch  114/269 - Train Accuracy:  0.332, Validation Accuracy:  0.362, Loss:  2.415\n",
      "Epoch   0 Batch  115/269 - Train Accuracy:  0.297, Validation Accuracy:  0.363, Loss:  2.503\n",
      "Epoch   0 Batch  116/269 - Train Accuracy:  0.338, Validation Accuracy:  0.363, Loss:  2.384\n",
      "Epoch   0 Batch  117/269 - Train Accuracy:  0.327, Validation Accuracy:  0.364, Loss:  2.386\n",
      "Epoch   0 Batch  118/269 - Train Accuracy:  0.339, Validation Accuracy:  0.364, Loss:  2.329\n",
      "Epoch   0 Batch  119/269 - Train Accuracy:  0.314, Validation Accuracy:  0.365, Loss:  2.467\n",
      "Epoch   0 Batch  120/269 - Train Accuracy:  0.301, Validation Accuracy:  0.362, Loss:  2.460\n",
      "Epoch   0 Batch  121/269 - Train Accuracy:  0.331, Validation Accuracy:  0.364, Loss:  2.331\n",
      "Epoch   0 Batch  122/269 - Train Accuracy:  0.343, Validation Accuracy:  0.367, Loss:  2.310\n",
      "Epoch   0 Batch  123/269 - Train Accuracy:  0.300, Validation Accuracy:  0.366, Loss:  2.447\n",
      "Epoch   0 Batch  124/269 - Train Accuracy:  0.326, Validation Accuracy:  0.366, Loss:  2.338\n",
      "Epoch   0 Batch  125/269 - Train Accuracy:  0.333, Validation Accuracy:  0.365, Loss:  2.287\n",
      "Epoch   0 Batch  126/269 - Train Accuracy:  0.341, Validation Accuracy:  0.365, Loss:  2.264\n",
      "Epoch   0 Batch  127/269 - Train Accuracy:  0.309, Validation Accuracy:  0.367, Loss:  2.422\n",
      "Epoch   0 Batch  128/269 - Train Accuracy:  0.347, Validation Accuracy:  0.367, Loss:  2.277\n",
      "Epoch   0 Batch  129/269 - Train Accuracy:  0.333, Validation Accuracy:  0.366, Loss:  2.314\n",
      "Epoch   0 Batch  130/269 - Train Accuracy:  0.290, Validation Accuracy:  0.363, Loss:  2.434\n",
      "Epoch   0 Batch  131/269 - Train Accuracy:  0.308, Validation Accuracy:  0.366, Loss:  2.393\n",
      "Epoch   0 Batch  132/269 - Train Accuracy:  0.329, Validation Accuracy:  0.365, Loss:  2.308\n",
      "Epoch   0 Batch  133/269 - Train Accuracy:  0.338, Validation Accuracy:  0.368, Loss:  2.276\n",
      "Epoch   0 Batch  134/269 - Train Accuracy:  0.308, Validation Accuracy:  0.366, Loss:  2.361\n",
      "Epoch   0 Batch  135/269 - Train Accuracy:  0.294, Validation Accuracy:  0.369, Loss:  2.416\n",
      "Epoch   0 Batch  136/269 - Train Accuracy:  0.303, Validation Accuracy:  0.368, Loss:  2.384\n",
      "Epoch   0 Batch  137/269 - Train Accuracy:  0.307, Validation Accuracy:  0.367, Loss:  2.386\n",
      "Epoch   0 Batch  138/269 - Train Accuracy:  0.308, Validation Accuracy:  0.367, Loss:  2.346\n",
      "Epoch   0 Batch  139/269 - Train Accuracy:  0.345, Validation Accuracy:  0.367, Loss:  2.225\n",
      "Epoch   0 Batch  140/269 - Train Accuracy:  0.336, Validation Accuracy:  0.367, Loss:  2.250\n",
      "Epoch   0 Batch  141/269 - Train Accuracy:  0.317, Validation Accuracy:  0.367, Loss:  2.320\n",
      "Epoch   0 Batch  142/269 - Train Accuracy:  0.337, Validation Accuracy:  0.364, Loss:  2.234\n",
      "Epoch   0 Batch  143/269 - Train Accuracy:  0.331, Validation Accuracy:  0.364, Loss:  2.249\n",
      "Epoch   0 Batch  144/269 - Train Accuracy:  0.339, Validation Accuracy:  0.367, Loss:  2.224\n",
      "Epoch   0 Batch  145/269 - Train Accuracy:  0.329, Validation Accuracy:  0.366, Loss:  2.255\n",
      "Epoch   0 Batch  146/269 - Train Accuracy:  0.343, Validation Accuracy:  0.367, Loss:  2.239\n",
      "Epoch   0 Batch  147/269 - Train Accuracy:  0.364, Validation Accuracy:  0.367, Loss:  2.151\n",
      "Epoch   0 Batch  148/269 - Train Accuracy:  0.327, Validation Accuracy:  0.366, Loss:  2.260\n",
      "Epoch   0 Batch  149/269 - Train Accuracy:  0.343, Validation Accuracy:  0.368, Loss:  2.243\n",
      "Epoch   0 Batch  150/269 - Train Accuracy:  0.344, Validation Accuracy:  0.369, Loss:  2.235\n",
      "Epoch   0 Batch  151/269 - Train Accuracy:  0.377, Validation Accuracy:  0.369, Loss:  2.142\n",
      "Epoch   0 Batch  152/269 - Train Accuracy:  0.337, Validation Accuracy:  0.369, Loss:  2.249\n",
      "Epoch   0 Batch  153/269 - Train Accuracy:  0.338, Validation Accuracy:  0.369, Loss:  2.226\n",
      "Epoch   0 Batch  154/269 - Train Accuracy:  0.296, Validation Accuracy:  0.369, Loss:  2.348\n",
      "Epoch   0 Batch  155/269 - Train Accuracy:  0.376, Validation Accuracy:  0.369, Loss:  2.097\n",
      "Epoch   0 Batch  156/269 - Train Accuracy:  0.317, Validation Accuracy:  0.368, Loss:  2.306\n",
      "Epoch   0 Batch  157/269 - Train Accuracy:  0.331, Validation Accuracy:  0.368, Loss:  2.229\n"
     ]
    },
    {
     "ename": "KeyboardInterrupt",
     "evalue": "",
     "output_type": "error",
     "traceback": [
      "\u001b[0;31m---------------------------------------------------------------------------\u001b[0m",
      "\u001b[0;31mKeyboardInterrupt\u001b[0m                         Traceback (most recent call last)",
      "\u001b[0;32m<ipython-input-57-d7dd20c512f1>\u001b[0m in \u001b[0;36m<module>\u001b[0;34m()\u001b[0m\n\u001b[1;32m     46\u001b[0m             batch_train_logits = sess.run(\n\u001b[1;32m     47\u001b[0m                 \u001b[0minference_logits\u001b[0m\u001b[0;34m,\u001b[0m\u001b[0;34m\u001b[0m\u001b[0m\n\u001b[0;32m---> 48\u001b[0;31m                 {input_data: source_batch, keep_prob: 1.0})\n\u001b[0m\u001b[1;32m     49\u001b[0m             batch_valid_logits = sess.run(\n\u001b[1;32m     50\u001b[0m                 \u001b[0minference_logits\u001b[0m\u001b[0;34m,\u001b[0m\u001b[0;34m\u001b[0m\u001b[0m\n",
      "\u001b[0;32m/Users/josealber84/miniconda3/envs/tensorflow/lib/python3.5/site-packages/tensorflow/python/client/session.py\u001b[0m in \u001b[0;36mrun\u001b[0;34m(self, fetches, feed_dict, options, run_metadata)\u001b[0m\n\u001b[1;32m    765\u001b[0m     \u001b[0;32mtry\u001b[0m\u001b[0;34m:\u001b[0m\u001b[0;34m\u001b[0m\u001b[0m\n\u001b[1;32m    766\u001b[0m       result = self._run(None, fetches, feed_dict, options_ptr,\n\u001b[0;32m--> 767\u001b[0;31m                          run_metadata_ptr)\n\u001b[0m\u001b[1;32m    768\u001b[0m       \u001b[0;32mif\u001b[0m \u001b[0mrun_metadata\u001b[0m\u001b[0;34m:\u001b[0m\u001b[0;34m\u001b[0m\u001b[0m\n\u001b[1;32m    769\u001b[0m         \u001b[0mproto_data\u001b[0m \u001b[0;34m=\u001b[0m \u001b[0mtf_session\u001b[0m\u001b[0;34m.\u001b[0m\u001b[0mTF_GetBuffer\u001b[0m\u001b[0;34m(\u001b[0m\u001b[0mrun_metadata_ptr\u001b[0m\u001b[0;34m)\u001b[0m\u001b[0;34m\u001b[0m\u001b[0m\n",
      "\u001b[0;32m/Users/josealber84/miniconda3/envs/tensorflow/lib/python3.5/site-packages/tensorflow/python/client/session.py\u001b[0m in \u001b[0;36m_run\u001b[0;34m(self, handle, fetches, feed_dict, options, run_metadata)\u001b[0m\n\u001b[1;32m    963\u001b[0m     \u001b[0;32mif\u001b[0m \u001b[0mfinal_fetches\u001b[0m \u001b[0;32mor\u001b[0m \u001b[0mfinal_targets\u001b[0m\u001b[0;34m:\u001b[0m\u001b[0;34m\u001b[0m\u001b[0m\n\u001b[1;32m    964\u001b[0m       results = self._do_run(handle, final_targets, final_fetches,\n\u001b[0;32m--> 965\u001b[0;31m                              feed_dict_string, options, run_metadata)\n\u001b[0m\u001b[1;32m    966\u001b[0m     \u001b[0;32melse\u001b[0m\u001b[0;34m:\u001b[0m\u001b[0;34m\u001b[0m\u001b[0m\n\u001b[1;32m    967\u001b[0m       \u001b[0mresults\u001b[0m \u001b[0;34m=\u001b[0m \u001b[0;34m[\u001b[0m\u001b[0;34m]\u001b[0m\u001b[0;34m\u001b[0m\u001b[0m\n",
      "\u001b[0;32m/Users/josealber84/miniconda3/envs/tensorflow/lib/python3.5/site-packages/tensorflow/python/client/session.py\u001b[0m in \u001b[0;36m_do_run\u001b[0;34m(self, handle, target_list, fetch_list, feed_dict, options, run_metadata)\u001b[0m\n\u001b[1;32m   1013\u001b[0m     \u001b[0;32mif\u001b[0m \u001b[0mhandle\u001b[0m \u001b[0;32mis\u001b[0m \u001b[0;32mNone\u001b[0m\u001b[0;34m:\u001b[0m\u001b[0;34m\u001b[0m\u001b[0m\n\u001b[1;32m   1014\u001b[0m       return self._do_call(_run_fn, self._session, feed_dict, fetch_list,\n\u001b[0;32m-> 1015\u001b[0;31m                            target_list, options, run_metadata)\n\u001b[0m\u001b[1;32m   1016\u001b[0m     \u001b[0;32melse\u001b[0m\u001b[0;34m:\u001b[0m\u001b[0;34m\u001b[0m\u001b[0m\n\u001b[1;32m   1017\u001b[0m       return self._do_call(_prun_fn, self._session, handle, feed_dict,\n",
      "\u001b[0;32m/Users/josealber84/miniconda3/envs/tensorflow/lib/python3.5/site-packages/tensorflow/python/client/session.py\u001b[0m in \u001b[0;36m_do_call\u001b[0;34m(self, fn, *args)\u001b[0m\n\u001b[1;32m   1020\u001b[0m   \u001b[0;32mdef\u001b[0m \u001b[0m_do_call\u001b[0m\u001b[0;34m(\u001b[0m\u001b[0mself\u001b[0m\u001b[0;34m,\u001b[0m \u001b[0mfn\u001b[0m\u001b[0;34m,\u001b[0m \u001b[0;34m*\u001b[0m\u001b[0margs\u001b[0m\u001b[0;34m)\u001b[0m\u001b[0;34m:\u001b[0m\u001b[0;34m\u001b[0m\u001b[0m\n\u001b[1;32m   1021\u001b[0m     \u001b[0;32mtry\u001b[0m\u001b[0;34m:\u001b[0m\u001b[0;34m\u001b[0m\u001b[0m\n\u001b[0;32m-> 1022\u001b[0;31m       \u001b[0;32mreturn\u001b[0m \u001b[0mfn\u001b[0m\u001b[0;34m(\u001b[0m\u001b[0;34m*\u001b[0m\u001b[0margs\u001b[0m\u001b[0;34m)\u001b[0m\u001b[0;34m\u001b[0m\u001b[0m\n\u001b[0m\u001b[1;32m   1023\u001b[0m     \u001b[0;32mexcept\u001b[0m \u001b[0merrors\u001b[0m\u001b[0;34m.\u001b[0m\u001b[0mOpError\u001b[0m \u001b[0;32mas\u001b[0m \u001b[0me\u001b[0m\u001b[0;34m:\u001b[0m\u001b[0;34m\u001b[0m\u001b[0m\n\u001b[1;32m   1024\u001b[0m       \u001b[0mmessage\u001b[0m \u001b[0;34m=\u001b[0m \u001b[0mcompat\u001b[0m\u001b[0;34m.\u001b[0m\u001b[0mas_text\u001b[0m\u001b[0;34m(\u001b[0m\u001b[0me\u001b[0m\u001b[0;34m.\u001b[0m\u001b[0mmessage\u001b[0m\u001b[0;34m)\u001b[0m\u001b[0;34m\u001b[0m\u001b[0m\n",
      "\u001b[0;32m/Users/josealber84/miniconda3/envs/tensorflow/lib/python3.5/site-packages/tensorflow/python/client/session.py\u001b[0m in \u001b[0;36m_run_fn\u001b[0;34m(session, feed_dict, fetch_list, target_list, options, run_metadata)\u001b[0m\n\u001b[1;32m   1002\u001b[0m         return tf_session.TF_Run(session, options,\n\u001b[1;32m   1003\u001b[0m                                  \u001b[0mfeed_dict\u001b[0m\u001b[0;34m,\u001b[0m \u001b[0mfetch_list\u001b[0m\u001b[0;34m,\u001b[0m \u001b[0mtarget_list\u001b[0m\u001b[0;34m,\u001b[0m\u001b[0;34m\u001b[0m\u001b[0m\n\u001b[0;32m-> 1004\u001b[0;31m                                  status, run_metadata)\n\u001b[0m\u001b[1;32m   1005\u001b[0m \u001b[0;34m\u001b[0m\u001b[0m\n\u001b[1;32m   1006\u001b[0m     \u001b[0;32mdef\u001b[0m \u001b[0m_prun_fn\u001b[0m\u001b[0;34m(\u001b[0m\u001b[0msession\u001b[0m\u001b[0;34m,\u001b[0m \u001b[0mhandle\u001b[0m\u001b[0;34m,\u001b[0m \u001b[0mfeed_dict\u001b[0m\u001b[0;34m,\u001b[0m \u001b[0mfetch_list\u001b[0m\u001b[0;34m)\u001b[0m\u001b[0;34m:\u001b[0m\u001b[0;34m\u001b[0m\u001b[0m\n",
      "\u001b[0;31mKeyboardInterrupt\u001b[0m: "
     ]
    }
   ],
   "source": [
    "\"\"\"\n",
    "DON'T MODIFY ANYTHING IN THIS CELL\n",
    "\"\"\"\n",
    "import time\n",
    "\n",
    "def get_accuracy(target, logits):\n",
    "    \"\"\"\n",
    "    Calculate accuracy\n",
    "    \"\"\"\n",
    "    max_seq = max(target.shape[1], logits.shape[1])\n",
    "    if max_seq - target.shape[1]:\n",
    "        target = np.pad(\n",
    "            target,\n",
    "            [(0,0),(0,max_seq - target.shape[1])],\n",
    "            'constant')\n",
    "    if max_seq - logits.shape[1]:\n",
    "        logits = np.pad(\n",
    "            logits,\n",
    "            [(0,0),(0,max_seq - logits.shape[1]), (0,0)],\n",
    "            'constant')\n",
    "\n",
    "    return np.mean(np.equal(target, np.argmax(logits, 2)))\n",
    "\n",
    "train_source = source_int_text[batch_size:]\n",
    "train_target = target_int_text[batch_size:]\n",
    "\n",
    "valid_source = helper.pad_sentence_batch(source_int_text[:batch_size])\n",
    "valid_target = helper.pad_sentence_batch(target_int_text[:batch_size])\n",
    "\n",
    "with tf.Session(graph=train_graph) as sess:\n",
    "    sess.run(tf.global_variables_initializer())\n",
    "\n",
    "    for epoch_i in range(epochs):\n",
    "        for batch_i, (source_batch, target_batch) in enumerate(\n",
    "                helper.batch_data(train_source, train_target, batch_size)):\n",
    "            start_time = time.time()\n",
    "            \n",
    "            _, loss = sess.run(\n",
    "                [train_op, cost],\n",
    "                {input_data: source_batch,\n",
    "                 targets: target_batch,\n",
    "                 lr: learning_rate,\n",
    "                 sequence_length: target_batch.shape[1],\n",
    "                 keep_prob: keep_probability})\n",
    "            \n",
    "            batch_train_logits = sess.run(\n",
    "                inference_logits,\n",
    "                {input_data: source_batch, keep_prob: 1.0})\n",
    "            batch_valid_logits = sess.run(\n",
    "                inference_logits,\n",
    "                {input_data: valid_source, keep_prob: 1.0})\n",
    "                \n",
    "            train_acc = get_accuracy(target_batch, batch_train_logits)\n",
    "            valid_acc = get_accuracy(np.array(valid_target), batch_valid_logits)\n",
    "            end_time = time.time()\n",
    "            print('Epoch {:>3} Batch {:>4}/{} - Train Accuracy: {:>6.3f}, Validation Accuracy: {:>6.3f}, Loss: {:>6.3f}'\n",
    "                  .format(epoch_i, batch_i, len(source_int_text) // batch_size, train_acc, valid_acc, loss))\n",
    "\n",
    "    # Save Model\n",
    "    saver = tf.train.Saver()\n",
    "    saver.save(sess, save_path)\n",
    "    print('Model Trained and Saved')"
   ]
  },
  {
   "cell_type": "markdown",
   "metadata": {
    "deletable": true,
    "editable": true
   },
   "source": [
    "### Save Parameters\n",
    "Save the `batch_size` and `save_path` parameters for inference."
   ]
  },
  {
   "cell_type": "code",
   "execution_count": null,
   "metadata": {
    "collapsed": false,
    "deletable": true,
    "editable": true
   },
   "outputs": [],
   "source": [
    "\"\"\"\n",
    "DON'T MODIFY ANYTHING IN THIS CELL\n",
    "\"\"\"\n",
    "# Save parameters for checkpoint\n",
    "helper.save_params(save_path)"
   ]
  },
  {
   "cell_type": "markdown",
   "metadata": {
    "deletable": true,
    "editable": true
   },
   "source": [
    "# Checkpoint"
   ]
  },
  {
   "cell_type": "code",
   "execution_count": null,
   "metadata": {
    "collapsed": false,
    "deletable": true,
    "editable": true
   },
   "outputs": [],
   "source": [
    "\"\"\"\n",
    "DON'T MODIFY ANYTHING IN THIS CELL\n",
    "\"\"\"\n",
    "import tensorflow as tf\n",
    "import numpy as np\n",
    "import helper\n",
    "import problem_unittests as tests\n",
    "\n",
    "_, (source_vocab_to_int, target_vocab_to_int), (source_int_to_vocab, target_int_to_vocab) = helper.load_preprocess()\n",
    "load_path = helper.load_params()"
   ]
  },
  {
   "cell_type": "markdown",
   "metadata": {
    "deletable": true,
    "editable": true
   },
   "source": [
    "## Sentence to Sequence\n",
    "To feed a sentence into the model for translation, you first need to preprocess it.  Implement the function `sentence_to_seq()` to preprocess new sentences.\n",
    "\n",
    "- Convert the sentence to lowercase\n",
    "- Convert words into ids using `vocab_to_int`\n",
    " - Convert words not in the vocabulary, to the `<UNK>` word id."
   ]
  },
  {
   "cell_type": "code",
   "execution_count": null,
   "metadata": {
    "collapsed": false,
    "deletable": true,
    "editable": true
   },
   "outputs": [],
   "source": [
    "def sentence_to_seq(sentence, vocab_to_int):\n",
    "    \"\"\"\n",
    "    Convert a sentence to a sequence of ids\n",
    "    :param sentence: String\n",
    "    :param vocab_to_int: Dictionary to go from the words to an id\n",
    "    :return: List of word ids\n",
    "    \"\"\"\n",
    "    # TODO: Implement Function\n",
    "    return None\n",
    "\n",
    "\n",
    "\"\"\"\n",
    "DON'T MODIFY ANYTHING IN THIS CELL THAT IS BELOW THIS LINE\n",
    "\"\"\"\n",
    "tests.test_sentence_to_seq(sentence_to_seq)"
   ]
  },
  {
   "cell_type": "markdown",
   "metadata": {
    "deletable": true,
    "editable": true
   },
   "source": [
    "## Translate\n",
    "This will translate `translate_sentence` from English to French."
   ]
  },
  {
   "cell_type": "code",
   "execution_count": null,
   "metadata": {
    "collapsed": false,
    "deletable": true,
    "editable": true
   },
   "outputs": [],
   "source": [
    "translate_sentence = 'he saw a old yellow truck .'\n",
    "\n",
    "\n",
    "\"\"\"\n",
    "DON'T MODIFY ANYTHING IN THIS CELL\n",
    "\"\"\"\n",
    "translate_sentence = sentence_to_seq(translate_sentence, source_vocab_to_int)\n",
    "\n",
    "loaded_graph = tf.Graph()\n",
    "with tf.Session(graph=loaded_graph) as sess:\n",
    "    # Load saved model\n",
    "    loader = tf.train.import_meta_graph(load_path + '.meta')\n",
    "    loader.restore(sess, load_path)\n",
    "\n",
    "    input_data = loaded_graph.get_tensor_by_name('input:0')\n",
    "    logits = loaded_graph.get_tensor_by_name('logits:0')\n",
    "    keep_prob = loaded_graph.get_tensor_by_name('keep_prob:0')\n",
    "\n",
    "    translate_logits = sess.run(logits, {input_data: [translate_sentence], keep_prob: 1.0})[0]\n",
    "\n",
    "print('Input')\n",
    "print('  Word Ids:      {}'.format([i for i in translate_sentence]))\n",
    "print('  English Words: {}'.format([source_int_to_vocab[i] for i in translate_sentence]))\n",
    "\n",
    "print('\\nPrediction')\n",
    "print('  Word Ids:      {}'.format([i for i in np.argmax(translate_logits, 1)]))\n",
    "print('  French Words: {}'.format([target_int_to_vocab[i] for i in np.argmax(translate_logits, 1)]))"
   ]
  },
  {
   "cell_type": "markdown",
   "metadata": {
    "deletable": true,
    "editable": true
   },
   "source": [
    "## Imperfect Translation\n",
    "You might notice that some sentences translate better than others.  Since the dataset you're using only has a vocabulary of 227 English words of the thousands that you use, you're only going to see good results using these words.  For this project, you don't need a perfect translation. However, if you want to create a better translation model, you'll need better data.\n",
    "\n",
    "You can train on the [WMT10 French-English corpus](http://www.statmt.org/wmt10/training-giga-fren.tar).  This dataset has more vocabulary and richer in topics discussed.  However, this will take you days to train, so make sure you've a GPU and the neural network is performing well on dataset we provided.  Just make sure you play with the WMT10 corpus after you've submitted this project.\n",
    "## Submitting This Project\n",
    "When submitting this project, make sure to run all the cells before saving the notebook. Save the notebook file as \"dlnd_language_translation.ipynb\" and save it as a HTML file under \"File\" -> \"Download as\". Include the \"helper.py\" and \"problem_unittests.py\" files in your submission."
   ]
  }
 ],
 "metadata": {
  "kernelspec": {
   "display_name": "Python 3",
   "language": "python",
   "name": "python3"
  },
  "language_info": {
   "codemirror_mode": {
    "name": "ipython",
    "version": 3
   },
   "file_extension": ".py",
   "mimetype": "text/x-python",
   "name": "python",
   "nbconvert_exporter": "python",
   "pygments_lexer": "ipython3",
   "version": "3.5.3"
  }
 },
 "nbformat": 4,
 "nbformat_minor": 0
}
